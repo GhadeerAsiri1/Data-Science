{
  "cells": [
    {
      "cell_type": "code",
      "execution_count": 1,
      "id": "4f9f1b29",
      "metadata": {
        "id": "4f9f1b29"
      },
      "outputs": [],
      "source": [
        "import matplotlib.pyplot as plt"
      ]
    },
    {
      "cell_type": "code",
      "execution_count": 2,
      "id": "4058aae7",
      "metadata": {
        "id": "4058aae7"
      },
      "outputs": [],
      "source": [
        "import pandas as pd"
      ]
    },
    {
      "cell_type": "code",
      "execution_count": 3,
      "id": "0eeaeaa1",
      "metadata": {
        "id": "0eeaeaa1"
      },
      "outputs": [],
      "source": [
        "df = pd.read_csv('annual-enterprise-survey-2021-financial-year-provisional-csv.csv')"
      ]
    },
    {
      "cell_type": "code",
      "execution_count": 4,
      "id": "00413a46",
      "metadata": {
        "colab": {
          "base_uri": "https://localhost:8080/",
          "height": 797
        },
        "id": "00413a46",
        "outputId": "d04c3b53-d285-4305-ed96-e382e62901ab"
      },
      "outputs": [
        {
          "output_type": "execute_result",
          "data": {
            "text/plain": [
              "       Year Industry_aggregation_NZSIOC Industry_code_NZSIOC  \\\n",
              "0      2021                     Level 1                99999   \n",
              "1      2021                     Level 1                99999   \n",
              "2      2021                     Level 1                99999   \n",
              "3         ?                     Level 1                99999   \n",
              "4         ?                     Level 1                99999   \n",
              "...     ...                         ...                  ...   \n",
              "41710  2013                     Level 3                 ZZ11   \n",
              "41711  2013                     Level 3                 ZZ11   \n",
              "41712  2013                     Level 3                 ZZ11   \n",
              "41713  2013                     Level 3                 ZZ11   \n",
              "41714  2013                     Level 3                 ZZ11   \n",
              "\n",
              "             Industry_name_NZSIOC               Units Variable_code  \\\n",
              "0                  All industries  Dollars (millions)           H01   \n",
              "1                  All industries  Dollars (millions)           H04   \n",
              "2                  All industries  Dollars (millions)           H05   \n",
              "3                  All industries  Dollars (millions)           H07   \n",
              "4                  All industries  Dollars (millions)           H08   \n",
              "...                           ...                 ...           ...   \n",
              "41710  Food product manufacturing          Percentage           H37   \n",
              "41711  Food product manufacturing          Percentage           H38   \n",
              "41712  Food product manufacturing          Percentage           H39   \n",
              "41713  Food product manufacturing          Percentage           H40   \n",
              "41714  Food product manufacturing          Percentage           H41   \n",
              "\n",
              "                                         Variable_name      Variable_category  \\\n",
              "0                                         Total income  Financial performance   \n",
              "1      Sales, government funding, grants and subsidies  Financial performance   \n",
              "2                    Interest, dividends and donations  Financial performance   \n",
              "3                                 Non-operating income  Financial performance   \n",
              "4                                    Total expenditure  Financial performance   \n",
              "...                                                ...                    ...   \n",
              "41710                                      Quick ratio       Financial ratios   \n",
              "41711              Margin on sales of goods for resale       Financial ratios   \n",
              "41712                                 Return on equity       Financial ratios   \n",
              "41713                           Return on total assets       Financial ratios   \n",
              "41714                            Liabilities structure       Financial ratios   \n",
              "\n",
              "         Value                             Industry_code_ANZSIC06  \n",
              "0      757,504  ANZSIC06 divisions A-S (excluding classes K633...  \n",
              "1      674,890  ANZSIC06 divisions A-S (excluding classes K633...  \n",
              "2       49,593  ANZSIC06 divisions A-S (excluding classes K633...  \n",
              "3            ?  ANZSIC06 divisions A-S (excluding classes K633...  \n",
              "4            ?  ANZSIC06 divisions A-S (excluding classes K633...  \n",
              "...        ...                                                ...  \n",
              "41710       52  ANZSIC06 groups C111, C112, C113, C114, C115, ...  \n",
              "41711       40  ANZSIC06 groups C111, C112, C113, C114, C115, ...  \n",
              "41712       12  ANZSIC06 groups C111, C112, C113, C114, C115, ...  \n",
              "41713        5  ANZSIC06 groups C111, C112, C113, C114, C115, ...  \n",
              "41714       46  ANZSIC06 groups C111, C112, C113, C114, C115, ...  \n",
              "\n",
              "[41715 rows x 10 columns]"
            ],
            "text/html": [
              "\n",
              "  <div id=\"df-fb47470d-6a4c-4f8b-a7cb-49b63fb9165e\">\n",
              "    <div class=\"colab-df-container\">\n",
              "      <div>\n",
              "<style scoped>\n",
              "    .dataframe tbody tr th:only-of-type {\n",
              "        vertical-align: middle;\n",
              "    }\n",
              "\n",
              "    .dataframe tbody tr th {\n",
              "        vertical-align: top;\n",
              "    }\n",
              "\n",
              "    .dataframe thead th {\n",
              "        text-align: right;\n",
              "    }\n",
              "</style>\n",
              "<table border=\"1\" class=\"dataframe\">\n",
              "  <thead>\n",
              "    <tr style=\"text-align: right;\">\n",
              "      <th></th>\n",
              "      <th>Year</th>\n",
              "      <th>Industry_aggregation_NZSIOC</th>\n",
              "      <th>Industry_code_NZSIOC</th>\n",
              "      <th>Industry_name_NZSIOC</th>\n",
              "      <th>Units</th>\n",
              "      <th>Variable_code</th>\n",
              "      <th>Variable_name</th>\n",
              "      <th>Variable_category</th>\n",
              "      <th>Value</th>\n",
              "      <th>Industry_code_ANZSIC06</th>\n",
              "    </tr>\n",
              "  </thead>\n",
              "  <tbody>\n",
              "    <tr>\n",
              "      <th>0</th>\n",
              "      <td>2021</td>\n",
              "      <td>Level 1</td>\n",
              "      <td>99999</td>\n",
              "      <td>All industries</td>\n",
              "      <td>Dollars (millions)</td>\n",
              "      <td>H01</td>\n",
              "      <td>Total income</td>\n",
              "      <td>Financial performance</td>\n",
              "      <td>757,504</td>\n",
              "      <td>ANZSIC06 divisions A-S (excluding classes K633...</td>\n",
              "    </tr>\n",
              "    <tr>\n",
              "      <th>1</th>\n",
              "      <td>2021</td>\n",
              "      <td>Level 1</td>\n",
              "      <td>99999</td>\n",
              "      <td>All industries</td>\n",
              "      <td>Dollars (millions)</td>\n",
              "      <td>H04</td>\n",
              "      <td>Sales, government funding, grants and subsidies</td>\n",
              "      <td>Financial performance</td>\n",
              "      <td>674,890</td>\n",
              "      <td>ANZSIC06 divisions A-S (excluding classes K633...</td>\n",
              "    </tr>\n",
              "    <tr>\n",
              "      <th>2</th>\n",
              "      <td>2021</td>\n",
              "      <td>Level 1</td>\n",
              "      <td>99999</td>\n",
              "      <td>All industries</td>\n",
              "      <td>Dollars (millions)</td>\n",
              "      <td>H05</td>\n",
              "      <td>Interest, dividends and donations</td>\n",
              "      <td>Financial performance</td>\n",
              "      <td>49,593</td>\n",
              "      <td>ANZSIC06 divisions A-S (excluding classes K633...</td>\n",
              "    </tr>\n",
              "    <tr>\n",
              "      <th>3</th>\n",
              "      <td>?</td>\n",
              "      <td>Level 1</td>\n",
              "      <td>99999</td>\n",
              "      <td>All industries</td>\n",
              "      <td>Dollars (millions)</td>\n",
              "      <td>H07</td>\n",
              "      <td>Non-operating income</td>\n",
              "      <td>Financial performance</td>\n",
              "      <td>?</td>\n",
              "      <td>ANZSIC06 divisions A-S (excluding classes K633...</td>\n",
              "    </tr>\n",
              "    <tr>\n",
              "      <th>4</th>\n",
              "      <td>?</td>\n",
              "      <td>Level 1</td>\n",
              "      <td>99999</td>\n",
              "      <td>All industries</td>\n",
              "      <td>Dollars (millions)</td>\n",
              "      <td>H08</td>\n",
              "      <td>Total expenditure</td>\n",
              "      <td>Financial performance</td>\n",
              "      <td>?</td>\n",
              "      <td>ANZSIC06 divisions A-S (excluding classes K633...</td>\n",
              "    </tr>\n",
              "    <tr>\n",
              "      <th>...</th>\n",
              "      <td>...</td>\n",
              "      <td>...</td>\n",
              "      <td>...</td>\n",
              "      <td>...</td>\n",
              "      <td>...</td>\n",
              "      <td>...</td>\n",
              "      <td>...</td>\n",
              "      <td>...</td>\n",
              "      <td>...</td>\n",
              "      <td>...</td>\n",
              "    </tr>\n",
              "    <tr>\n",
              "      <th>41710</th>\n",
              "      <td>2013</td>\n",
              "      <td>Level 3</td>\n",
              "      <td>ZZ11</td>\n",
              "      <td>Food product manufacturing</td>\n",
              "      <td>Percentage</td>\n",
              "      <td>H37</td>\n",
              "      <td>Quick ratio</td>\n",
              "      <td>Financial ratios</td>\n",
              "      <td>52</td>\n",
              "      <td>ANZSIC06 groups C111, C112, C113, C114, C115, ...</td>\n",
              "    </tr>\n",
              "    <tr>\n",
              "      <th>41711</th>\n",
              "      <td>2013</td>\n",
              "      <td>Level 3</td>\n",
              "      <td>ZZ11</td>\n",
              "      <td>Food product manufacturing</td>\n",
              "      <td>Percentage</td>\n",
              "      <td>H38</td>\n",
              "      <td>Margin on sales of goods for resale</td>\n",
              "      <td>Financial ratios</td>\n",
              "      <td>40</td>\n",
              "      <td>ANZSIC06 groups C111, C112, C113, C114, C115, ...</td>\n",
              "    </tr>\n",
              "    <tr>\n",
              "      <th>41712</th>\n",
              "      <td>2013</td>\n",
              "      <td>Level 3</td>\n",
              "      <td>ZZ11</td>\n",
              "      <td>Food product manufacturing</td>\n",
              "      <td>Percentage</td>\n",
              "      <td>H39</td>\n",
              "      <td>Return on equity</td>\n",
              "      <td>Financial ratios</td>\n",
              "      <td>12</td>\n",
              "      <td>ANZSIC06 groups C111, C112, C113, C114, C115, ...</td>\n",
              "    </tr>\n",
              "    <tr>\n",
              "      <th>41713</th>\n",
              "      <td>2013</td>\n",
              "      <td>Level 3</td>\n",
              "      <td>ZZ11</td>\n",
              "      <td>Food product manufacturing</td>\n",
              "      <td>Percentage</td>\n",
              "      <td>H40</td>\n",
              "      <td>Return on total assets</td>\n",
              "      <td>Financial ratios</td>\n",
              "      <td>5</td>\n",
              "      <td>ANZSIC06 groups C111, C112, C113, C114, C115, ...</td>\n",
              "    </tr>\n",
              "    <tr>\n",
              "      <th>41714</th>\n",
              "      <td>2013</td>\n",
              "      <td>Level 3</td>\n",
              "      <td>ZZ11</td>\n",
              "      <td>Food product manufacturing</td>\n",
              "      <td>Percentage</td>\n",
              "      <td>H41</td>\n",
              "      <td>Liabilities structure</td>\n",
              "      <td>Financial ratios</td>\n",
              "      <td>46</td>\n",
              "      <td>ANZSIC06 groups C111, C112, C113, C114, C115, ...</td>\n",
              "    </tr>\n",
              "  </tbody>\n",
              "</table>\n",
              "<p>41715 rows × 10 columns</p>\n",
              "</div>\n",
              "      <button class=\"colab-df-convert\" onclick=\"convertToInteractive('df-fb47470d-6a4c-4f8b-a7cb-49b63fb9165e')\"\n",
              "              title=\"Convert this dataframe to an interactive table.\"\n",
              "              style=\"display:none;\">\n",
              "        \n",
              "  <svg xmlns=\"http://www.w3.org/2000/svg\" height=\"24px\"viewBox=\"0 0 24 24\"\n",
              "       width=\"24px\">\n",
              "    <path d=\"M0 0h24v24H0V0z\" fill=\"none\"/>\n",
              "    <path d=\"M18.56 5.44l.94 2.06.94-2.06 2.06-.94-2.06-.94-.94-2.06-.94 2.06-2.06.94zm-11 1L8.5 8.5l.94-2.06 2.06-.94-2.06-.94L8.5 2.5l-.94 2.06-2.06.94zm10 10l.94 2.06.94-2.06 2.06-.94-2.06-.94-.94-2.06-.94 2.06-2.06.94z\"/><path d=\"M17.41 7.96l-1.37-1.37c-.4-.4-.92-.59-1.43-.59-.52 0-1.04.2-1.43.59L10.3 9.45l-7.72 7.72c-.78.78-.78 2.05 0 2.83L4 21.41c.39.39.9.59 1.41.59.51 0 1.02-.2 1.41-.59l7.78-7.78 2.81-2.81c.8-.78.8-2.07 0-2.86zM5.41 20L4 18.59l7.72-7.72 1.47 1.35L5.41 20z\"/>\n",
              "  </svg>\n",
              "      </button>\n",
              "      \n",
              "  <style>\n",
              "    .colab-df-container {\n",
              "      display:flex;\n",
              "      flex-wrap:wrap;\n",
              "      gap: 12px;\n",
              "    }\n",
              "\n",
              "    .colab-df-convert {\n",
              "      background-color: #E8F0FE;\n",
              "      border: none;\n",
              "      border-radius: 50%;\n",
              "      cursor: pointer;\n",
              "      display: none;\n",
              "      fill: #1967D2;\n",
              "      height: 32px;\n",
              "      padding: 0 0 0 0;\n",
              "      width: 32px;\n",
              "    }\n",
              "\n",
              "    .colab-df-convert:hover {\n",
              "      background-color: #E2EBFA;\n",
              "      box-shadow: 0px 1px 2px rgba(60, 64, 67, 0.3), 0px 1px 3px 1px rgba(60, 64, 67, 0.15);\n",
              "      fill: #174EA6;\n",
              "    }\n",
              "\n",
              "    [theme=dark] .colab-df-convert {\n",
              "      background-color: #3B4455;\n",
              "      fill: #D2E3FC;\n",
              "    }\n",
              "\n",
              "    [theme=dark] .colab-df-convert:hover {\n",
              "      background-color: #434B5C;\n",
              "      box-shadow: 0px 1px 3px 1px rgba(0, 0, 0, 0.15);\n",
              "      filter: drop-shadow(0px 1px 2px rgba(0, 0, 0, 0.3));\n",
              "      fill: #FFFFFF;\n",
              "    }\n",
              "  </style>\n",
              "\n",
              "      <script>\n",
              "        const buttonEl =\n",
              "          document.querySelector('#df-fb47470d-6a4c-4f8b-a7cb-49b63fb9165e button.colab-df-convert');\n",
              "        buttonEl.style.display =\n",
              "          google.colab.kernel.accessAllowed ? 'block' : 'none';\n",
              "\n",
              "        async function convertToInteractive(key) {\n",
              "          const element = document.querySelector('#df-fb47470d-6a4c-4f8b-a7cb-49b63fb9165e');\n",
              "          const dataTable =\n",
              "            await google.colab.kernel.invokeFunction('convertToInteractive',\n",
              "                                                     [key], {});\n",
              "          if (!dataTable) return;\n",
              "\n",
              "          const docLinkHtml = 'Like what you see? Visit the ' +\n",
              "            '<a target=\"_blank\" href=https://colab.research.google.com/notebooks/data_table.ipynb>data table notebook</a>'\n",
              "            + ' to learn more about interactive tables.';\n",
              "          element.innerHTML = '';\n",
              "          dataTable['output_type'] = 'display_data';\n",
              "          await google.colab.output.renderOutput(dataTable, element);\n",
              "          const docLink = document.createElement('div');\n",
              "          docLink.innerHTML = docLinkHtml;\n",
              "          element.appendChild(docLink);\n",
              "        }\n",
              "      </script>\n",
              "    </div>\n",
              "  </div>\n",
              "  "
            ]
          },
          "metadata": {},
          "execution_count": 4
        }
      ],
      "source": [
        "df"
      ]
    },
    {
      "cell_type": "code",
      "execution_count": 5,
      "id": "af862b4e",
      "metadata": {
        "colab": {
          "base_uri": "https://localhost:8080/"
        },
        "id": "af862b4e",
        "outputId": "53c52ea8-9d4c-47c8-ef2a-cd613da99836"
      },
      "outputs": [
        {
          "output_type": "execute_result",
          "data": {
            "text/plain": [
              "array(['Financial performance', '?', 'Financial position', ' ',\n",
              "       'Financial ratios'], dtype=object)"
            ]
          },
          "metadata": {},
          "execution_count": 5
        }
      ],
      "source": [
        "df['Variable_category'].unique()"
      ]
    },
    {
      "cell_type": "code",
      "execution_count": 6,
      "id": "6921a1ba",
      "metadata": {
        "colab": {
          "base_uri": "https://localhost:8080/"
        },
        "id": "6921a1ba",
        "outputId": "337892f7-42d6-4ef3-fc63-16061582341b"
      },
      "outputs": [
        {
          "output_type": "execute_result",
          "data": {
            "text/plain": [
              "Financial performance    20849\n",
              "Financial position       11939\n",
              "Financial ratios          8916\n",
              "?                           10\n",
              "                             1\n",
              "Name: Variable_category, dtype: int64"
            ]
          },
          "metadata": {},
          "execution_count": 6
        }
      ],
      "source": [
        "df['Variable_category'].value_counts()"
      ]
    },
    {
      "cell_type": "code",
      "execution_count": 7,
      "id": "6978bb68",
      "metadata": {
        "colab": {
          "base_uri": "https://localhost:8080/"
        },
        "id": "6978bb68",
        "outputId": "9291c1a5-9de7-48b2-d0b9-896b47fdbe36"
      },
      "outputs": [
        {
          "output_type": "execute_result",
          "data": {
            "text/plain": [
              "Index(['Financial performance', 'Financial position', 'Financial ratios', '?',\n",
              "       ' '],\n",
              "      dtype='object')"
            ]
          },
          "metadata": {},
          "execution_count": 7
        }
      ],
      "source": [
        "df['Variable_category'].value_counts().index"
      ]
    },
    {
      "cell_type": "code",
      "execution_count": 8,
      "id": "fdd351aa",
      "metadata": {
        "colab": {
          "base_uri": "https://localhost:8080/",
          "height": 266
        },
        "id": "fdd351aa",
        "outputId": "df8198a3-30f4-4169-e3e8-ba50059f26b8"
      },
      "outputs": [
        {
          "output_type": "execute_result",
          "data": {
            "text/plain": [
              "<matplotlib.axes._subplots.AxesSubplot at 0x7f2334728a90>"
            ]
          },
          "metadata": {},
          "execution_count": 8
        },
        {
          "output_type": "display_data",
          "data": {
            "text/plain": [
              "<Figure size 432x288 with 1 Axes>"
            ],
            "image/png": "[encoded data removed]"
          },
          "metadata": {}
        }
      ],
      "source": [
        "data = df['Variable_category'].value_counts()\n",
        "data.plot(kind='pie', autopct='%0.1f%%')"
      ]
    },
    {
      "cell_type": "code",
      "execution_count": 9,
      "id": "40c6f56f",
      "metadata": {
        "colab": {
          "base_uri": "https://localhost:8080/",
          "height": 299
        },
        "id": "40c6f56f",
        "outputId": "7a278822-1532-4067-c578-7454ab7286fe"
      },
      "outputs": [
        {
          "output_type": "execute_result",
          "data": {
            "text/plain": [
              "Text(0.5, 1.0, 'financial')"
            ]
          },
          "metadata": {},
          "execution_count": 9
        },
        {
          "output_type": "display_data",
          "data": {
            "text/plain": [
              "<Figure size 432x288 with 1 Axes>"
            ],
            "image/png": "[encoded data removed]"
          },
          "metadata": {
            "needs_background": "light"
          }
        }
      ],
      "source": [
        "data = df['Variable_category'].value_counts()\n",
        "data.plot(kind='line')\n",
        "plt.title('financial')"
      ]
    },
    {
      "cell_type": "code",
      "execution_count": 11,
      "id": "ab4b767c",
      "metadata": {
        "id": "ab4b767c"
      },
      "outputs": [],
      "source": [
        "import numpy as np"
      ]
    },
    {
      "cell_type": "code",
      "source": [
        "print(df.shape)"
      ],
      "metadata": {
        "colab": {
          "base_uri": "https://localhost:8080/"
        },
        "id": "trq617_Hgw54",
        "outputId": "303c6a08-2f47-41d6-bd20-738181c295c0"
      },
      "id": "trq617_Hgw54",
      "execution_count": 13,
      "outputs": [
        {
          "output_type": "stream",
          "name": "stdout",
          "text": [
            "(41715, 10)\n"
          ]
        }
      ]
    },
    {
      "cell_type": "code",
      "source": [
        "data = df['Variable_category'].value_counts()\n",
        "data.plot(kind='pie', autopct='%0.1f%%',figsize=(15, 6), shadow=True,       \n",
        "                            labels=None)\n",
        "\n"
      ],
      "metadata": {
        "colab": {
          "base_uri": "https://localhost:8080/",
          "height": 357
        },
        "id": "HKibto6Bg7vY",
        "outputId": "0773f6b5-a899-4f26-f92c-e080b5b28c79"
      },
      "id": "HKibto6Bg7vY",
      "execution_count": 26,
      "outputs": [
        {
          "output_type": "display_data",
          "data": {
            "text/plain": [
              "<Figure size 1080x432 with 1 Axes>"
            ],
            "image/png": "[encoded data removed]"
          },
          "metadata": {}
        }
      ]
    },
    {
      "cell_type": "code",
      "source": [
        "data = df['Variable_category'].value_counts()\n",
        "data.plot(kind='box', figsize=(10, 7), color='blue', vert=False)\n",
        "plt.show()"
      ],
      "metadata": {
        "colab": {
          "base_uri": "https://localhost:8080/",
          "height": 428
        },
        "id": "_oLhY_XGj3sZ",
        "outputId": "ad75fb80-5f08-4d4b-aca3-6cc8842f0504"
      },
      "id": "_oLhY_XGj3sZ",
      "execution_count": 32,
      "outputs": [
        {
          "output_type": "display_data",
          "data": {
            "text/plain": [
              "<Figure size 720x504 with 1 Axes>"
            ],
            "image/png": "[encoded data removed]"
          },
          "metadata": {
            "needs_background": "light"
          }
        }
      ]
    },
    {
      "cell_type": "code",
      "source": [
        "df.plot(kind='scatter', x='Year', y='Variable_category', figsize=(10, 6), color='darkblue')\n",
        "\n",
        "plt.xlabel('Year')\n",
        "plt.ylabel('category')\n",
        "\n",
        "plt.show()"
      ],
      "metadata": {
        "colab": {
          "base_uri": "https://localhost:8080/",
          "height": 388
        },
        "id": "zINEBsBYlkaG",
        "outputId": "60cbb719-56db-4ee2-b90a-62061ae872d4"
      },
      "id": "zINEBsBYlkaG",
      "execution_count": 33,
      "outputs": [
        {
          "output_type": "display_data",
          "data": {
            "text/plain": [
              "<Figure size 720x432 with 1 Axes>"
            ],
            "image/png": "[encoded data removed]"
          },
          "metadata": {
            "needs_background": "light"
          }
        }
      ]
    },
    {
      "cell_type": "code",
      "source": [],
      "metadata": {
        "id": "igfH9AO7mF6z"
      },
      "id": "igfH9AO7mF6z",
      "execution_count": null,
      "outputs": []
    },
    {
      "cell_type": "code",
      "execution_count": 43,
      "metadata": {
        "button": false,
        "jupyter": {
          "outputs_hidden": false
        },
        "new_sheet": false,
        "run_control": {
          "read_only": false
        },
        "id": "zQBYliX5e5ap",
        "outputId": "d0904cf9-f71a-49e2-b202-783563927f52",
        "colab": {
          "base_uri": "https://localhost:8080/",
          "height": 440
        }
      },
      "outputs": [
        {
          "output_type": "display_data",
          "data": {
            "text/plain": [
              "<Figure size 1008x576 with 1 Axes>"
            ],
            "image/png": "[encoded data removed]"
          },
          "metadata": {
            "needs_background": "light"
          }
        }
      ],
      "source": [
        "ax0 = df.plot(kind='scatter',\n",
        "                    x='Year',\n",
        "                    y='Variable_category',\n",
        "                    figsize=(14, 8),\n",
        "                    alpha=0.5,  \n",
        "                    color='green'\n",
        "                  \n",
        "                    )\n",
        "\n",
        "ax1 = df.plot(kind='scatter',\n",
        "                    x='Year',\n",
        "                    y='Industry_aggregation_NZSIOC',\n",
        "                    alpha=0.5,\n",
        "                    color=\"blue\",\n",
        "                     ax=ax0\n",
        "                    )\n",
        "\n",
        "\n"
      ],
      "id": "zQBYliX5e5ap"
    }
  ],
  "metadata": {
    "kernelspec": {
      "display_name": "Python 3 (ipykernel)",
      "language": "python",
      "name": "python3"
    },
    "language_info": {
      "codemirror_mode": {
        "name": "ipython",
        "version": 3
      },
      "file_extension": ".py",
      "mimetype": "text/x-python",
      "name": "python",
      "nbconvert_exporter": "python",
      "pygments_lexer": "ipython3",
      "version": "3.9.12"
    },
    "colab": {
      "provenance": []
    }
  },
  "nbformat": 4,
  "nbformat_minor": 5
}