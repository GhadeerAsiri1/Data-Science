{
 "cells": [
  {
   "cell_type": "code",
   "execution_count": 1,
   "id": "8f9efea7",
   "metadata": {},
   "outputs": [],
   "source": [
    "import json"
   ]
  },
  {
   "cell_type": "code",
   "execution_count": 21,
   "id": "fd9c7653",
   "metadata": {},
   "outputs": [],
   "source": [
    "file = open(\"C:\\\\Users\\\\Lenovo\\\\AppData\\\\Roaming\\\\Microsoft\\\\Windows\\\\Network Shortcuts\\\\category_meta.json\")"
   ]
  },
  {
   "cell_type": "code",
   "execution_count": 22,
   "id": "1eeda2d1",
   "metadata": {},
   "outputs": [
    {
     "data": {
      "text/plain": [
       "{'thing_classes': ['pedestrian',\n",
       "  'car',\n",
       "  'cyclist',\n",
       "  'van',\n",
       "  'truck',\n",
       "  'traffic cone',\n",
       "  'barrier',\n",
       "  'motorcycle',\n",
       "  'bicycle',\n",
       "  'bus',\n",
       "  'trailer',\n",
       "  'books',\n",
       "  'bottle',\n",
       "  'camera',\n",
       "  'cereal box',\n",
       "  'chair',\n",
       "  'cup',\n",
       "  'laptop',\n",
       "  'shoes',\n",
       "  'towel',\n",
       "  'blinds',\n",
       "  'window',\n",
       "  'lamp',\n",
       "  'shelves',\n",
       "  'mirror',\n",
       "  'sink',\n",
       "  'cabinet',\n",
       "  'bathtub',\n",
       "  'door',\n",
       "  'toilet',\n",
       "  'desk',\n",
       "  'box',\n",
       "  'bookcase',\n",
       "  'picture',\n",
       "  'table',\n",
       "  'counter',\n",
       "  'bed',\n",
       "  'night stand',\n",
       "  'pillow',\n",
       "  'sofa',\n",
       "  'television',\n",
       "  'floor mat',\n",
       "  'curtain',\n",
       "  'clothes',\n",
       "  'stationery',\n",
       "  'refrigerator',\n",
       "  'bin',\n",
       "  'stove',\n",
       "  'oven',\n",
       "  'machine'],\n",
       " 'thing_dataset_id_to_contiguous_id': {'0': 0,\n",
       "  '1': 1,\n",
       "  '3': 2,\n",
       "  '4': 3,\n",
       "  '5': 4,\n",
       "  '8': 5,\n",
       "  '9': 6,\n",
       "  '10': 7,\n",
       "  '11': 8,\n",
       "  '12': 9,\n",
       "  '13': 10,\n",
       "  '14': 11,\n",
       "  '15': 12,\n",
       "  '16': 13,\n",
       "  '17': 14,\n",
       "  '18': 15,\n",
       "  '19': 16,\n",
       "  '20': 17,\n",
       "  '21': 18,\n",
       "  '22': 19,\n",
       "  '23': 20,\n",
       "  '24': 21,\n",
       "  '25': 22,\n",
       "  '26': 23,\n",
       "  '27': 24,\n",
       "  '28': 25,\n",
       "  '29': 26,\n",
       "  '30': 27,\n",
       "  '31': 28,\n",
       "  '32': 29,\n",
       "  '33': 30,\n",
       "  '34': 31,\n",
       "  '35': 32,\n",
       "  '36': 33,\n",
       "  '37': 34,\n",
       "  '38': 35,\n",
       "  '39': 36,\n",
       "  '40': 37,\n",
       "  '42': 38,\n",
       "  '43': 39,\n",
       "  '44': 40,\n",
       "  '45': 41,\n",
       "  '46': 42,\n",
       "  '47': 43,\n",
       "  '48': 44,\n",
       "  '49': 45,\n",
       "  '52': 46,\n",
       "  '53': 47,\n",
       "  '57': 48,\n",
       "  '61': 49}}"
      ]
     },
     "execution_count": 22,
     "metadata": {},
     "output_type": "execute_result"
    }
   ],
   "source": [
    "json.load(file)"
   ]
  }
 ],
 "metadata": {
  "kernelspec": {
   "display_name": "Python 3 (ipykernel)",
   "language": "python",
   "name": "python3"
  },
  "language_info": {
   "codemirror_mode": {
    "name": "ipython",
    "version": 3
   },
   "file_extension": ".py",
   "mimetype": "text/x-python",
   "name": "python",
   "nbconvert_exporter": "python",
   "pygments_lexer": "ipython3",
   "version": "3.9.12"
  }
 },
 "nbformat": 4,
 "nbformat_minor": 5
}
