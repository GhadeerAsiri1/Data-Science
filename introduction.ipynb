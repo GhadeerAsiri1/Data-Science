{
 "cells": [
  {
   "cell_type": "code",
   "execution_count": 2,
   "id": "e7d7fd73",
   "metadata": {},
   "outputs": [
    {
     "data": {
      "text/plain": [
       "'Python Basics'"
      ]
     },
     "execution_count": 2,
     "metadata": {},
     "output_type": "execute_result"
    }
   ],
   "source": [
    "(\"Python Basics\")"
   ]
  },
  {
   "cell_type": "code",
   "execution_count": 3,
   "id": "d9739c9b",
   "metadata": {},
   "outputs": [
    {
     "data": {
      "text/plain": [
       "('since', 90, 1.2)"
      ]
     },
     "execution_count": 3,
     "metadata": {},
     "output_type": "execute_result"
    }
   ],
   "source": [
    "tuple1 = (\"since\",90,1.2 )\n",
    "tuple1"
   ]
  },
  {
   "cell_type": "code",
   "execution_count": 5,
   "id": "2ce62d80",
   "metadata": {},
   "outputs": [
    {
     "data": {
      "text/plain": [
       "['GhadeerAsiri', 1.4, 2002]"
      ]
     },
     "execution_count": 5,
     "metadata": {},
     "output_type": "execute_result"
    }
   ],
   "source": [
    "L = [\"GhadeerAsiri\", 1.4, 2002]\n",
    "L"
   ]
  },
  {
   "cell_type": "code",
   "execution_count": 1,
   "id": "43094fa7",
   "metadata": {},
   "outputs": [],
   "source": [
    "my_dict = {1: 'apple', 2: 'ball'}"
   ]
  },
  {
   "cell_type": "code",
   "execution_count": 7,
   "id": "249024a1",
   "metadata": {},
   "outputs": [],
   "source": [
    "# Import the libraries\n",
    "import time\n",
    "import sys\n",
    "import numpy as np\n",
    "import matplotlib.pyplot as plt \n",
    "%matplotlib inline"
   ]
  },
  {
   "cell_type": "code",
   "execution_count": 13,
   "id": "3f309b11",
   "metadata": {},
   "outputs": [],
   "source": [
    "# Import the libraries \n",
    "import numpy as np\n",
    "import matplotlib.pyplot as plt\n"
   ]
  },
  {
   "cell_type": "code",
   "execution_count": 4,
   "id": "79725c99",
   "metadata": {},
   "outputs": [],
   "source": [
    "# Create a python list\n",
    "a = [\"0\", 1, \"two\", \"3\", 4]\n"
   ]
  },
  {
   "cell_type": "code",
   "execution_count": 6,
   "id": "f287cafd",
   "metadata": {},
   "outputs": [
    {
     "name": "stdout",
     "output_type": "stream",
     "text": [
      "a[0]: 0\n",
      "a[1]: 1\n",
      "a[2]: two\n",
      "a[3]: 3\n",
      "a[4]: 4\n"
     ]
    }
   ],
   "source": [
    "# Print each element\n",
    "print(\"a[0]:\", a[0])\n",
    "print(\"a[1]:\", a[1])\n",
    "print(\"a[2]:\", a[2])\n",
    "print(\"a[3]:\", a[3])\n",
    "print(\"a[4]:\", a[4])"
   ]
  },
  {
   "cell_type": "code",
   "execution_count": 15,
   "id": "562c9021",
   "metadata": {},
   "outputs": [
    {
     "data": {
      "text/plain": [
       "[[11, 12, 13], [21, 22, 23], [31, 32, 33]]"
      ]
     },
     "execution_count": 15,
     "metadata": {},
     "output_type": "execute_result"
    }
   ],
   "source": [
    "# Create a list\n",
    "a = [[11, 12, 13], [21, 22, 23], [31, 32, 33]] \n",
    "a"
   ]
  },
  {
   "cell_type": "code",
   "execution_count": 16,
   "id": "9cf4b1ed",
   "metadata": {},
   "outputs": [
    {
     "data": {
      "text/plain": [
       "array([[11, 12, 13],\n",
       "       [21, 22, 23],\n",
       "       [31, 32, 33]])"
      ]
     },
     "execution_count": 16,
     "metadata": {},
     "output_type": "execute_result"
    }
   ],
   "source": [
    "# Convert list to numpy array\n",
    "# Every element is the same type\n",
    "A = np.array(a)\n",
    "A"
   ]
  },
  {
   "cell_type": "code",
   "execution_count": 23,
   "id": "763b36e2",
   "metadata": {},
   "outputs": [
    {
     "data": {
      "text/plain": [
       "2"
      ]
     },
     "execution_count": 23,
     "metadata": {},
     "output_type": "execute_result"
    }
   ],
   "source": [
    "# Show the numpy array dimensions \n",
    "A.ndim\n"
   ]
  },
  {
   "cell_type": "code",
   "execution_count": 21,
   "id": "69ab6660",
   "metadata": {},
   "outputs": [
    {
     "data": {
      "text/plain": [
       "6"
      ]
     },
     "execution_count": 21,
     "metadata": {},
     "output_type": "execute_result"
    }
   ],
   "source": [
    "# Access to the value by the key Dict[\"key1\"]\n",
    "Dict[0, 1]"
   ]
  },
  {
   "cell_type": "code",
   "execution_count": 19,
   "id": "e64be49c",
   "metadata": {},
   "outputs": [
    {
     "data": {
      "text/plain": [
       "{'key1': 1,\n",
       " 'key2': '2',\n",
       " 'key3': [3, 3, 3],\n",
       " 'key4': (4, 4, 4),\n",
       " 'key5': 5,\n",
       " (0, 1): 6}"
      ]
     },
     "execution_count": 19,
     "metadata": {},
     "output_type": "execute_result"
    }
   ],
   "source": [
    "# Create the dictionary\n",
    "Dict = {\"key1\": 1, \"key2\": \"2\", \"key3\": [3, 3, 3], \"key4\": (4, 4, 4\n",
    "), ('key5'): 5, (0, 1): 6}\n",
    "Dict"
   ]
  },
  {
   "cell_type": "code",
   "execution_count": 24,
   "id": "89cb36a2",
   "metadata": {},
   "outputs": [
    {
     "data": {
      "text/plain": [
       "1"
      ]
     },
     "execution_count": 24,
     "metadata": {},
     "output_type": "execute_result"
    }
   ],
   "source": [
    "# Access to the value by the key Dict[\"key1\"]\n",
    "Dict[\"key1\"]"
   ]
  },
  {
   "cell_type": "code",
   "execution_count": 25,
   "id": "a37c6503",
   "metadata": {},
   "outputs": [
    {
     "data": {
      "text/plain": [
       "(3, 3)"
      ]
     },
     "execution_count": 25,
     "metadata": {},
     "output_type": "execute_result"
    }
   ],
   "source": [
    "# Show the numpy array shape\n",
    "A.shape"
   ]
  },
  {
   "cell_type": "code",
   "execution_count": 26,
   "id": "68c6a1fc",
   "metadata": {},
   "outputs": [
    {
     "data": {
      "text/plain": [
       "9"
      ]
     },
     "execution_count": 26,
     "metadata": {},
     "output_type": "execute_result"
    }
   ],
   "source": [
    "# Show the numpy array size\n",
    "A.size"
   ]
  },
  {
   "cell_type": "code",
   "execution_count": 38,
   "id": "c7fd4150",
   "metadata": {},
   "outputs": [
    {
     "data": {
      "text/plain": [
       "{'R&B', 'disco', 'hard rock', 'pop', 'rock', 'soul'}"
      ]
     },
     "execution_count": 38,
     "metadata": {},
     "output_type": "execute_result"
    }
   ],
   "source": [
    "#Create a set\n",
    "set1 = {\"pop\", \"rock\", \"soul\", \"hard rock\", \"rock\", \"R&B\", \"rock\",\n",
    "\"disco\"}\n",
    "set1"
   ]
  },
  {
   "cell_type": "code",
   "execution_count": 93,
   "id": "ffcd440e",
   "metadata": {},
   "outputs": [
    {
     "data": {
      "text/plain": [
       "{'R&B',\n",
       " 'disco',\n",
       " 'folk rock',\n",
       " 'hard rock',\n",
       " 'pop',\n",
       " 'progressive rock',\n",
       " 'rock',\n",
       " 'soft rock',\n",
       " 'soul'}"
      ]
     },
     "execution_count": 93,
     "metadata": {},
     "output_type": "execute_result"
    }
   ],
   "source": [
    "# Convert list to set  \n",
    "music_genres = set([\"pop\", \"pop\", \"rock\", \"folk rock\", \"hard rock\",\n",
    "\"soul\", \\\n",
    "\"progressive rock\", \"soft rock\", \"R&B\", \"disco\"\n",
    " ])\n",
    "music_genres"
   ]
  },
  {
   "cell_type": "code",
   "execution_count": 94,
   "id": "77601373",
   "metadata": {},
   "outputs": [
    {
     "data": {
      "text/plain": [
       "False"
      ]
     },
     "execution_count": 94,
     "metadata": {},
     "output_type": "execute_result"
    }
   ],
   "source": [
    "#Condition Equal\n",
    "\n",
    "a=5\n",
    "a==6"
   ]
  },
  {
   "cell_type": "code",
   "execution_count": 80,
   "id": "2b39850a",
   "metadata": {},
   "outputs": [
    {
     "data": {
      "text/plain": [
       "True"
      ]
     },
     "execution_count": 80,
     "metadata": {},
     "output_type": "execute_result"
    }
   ],
   "source": [
    "# Greater than Sign \n",
    "i=6\n",
    "i>5"
   ]
  },
  {
   "cell_type": "code",
   "execution_count": 49,
   "id": "7f254f8b",
   "metadata": {},
   "outputs": [
    {
     "data": {
      "text/plain": [
       "False"
      ]
     },
     "execution_count": 49,
     "metadata": {},
     "output_type": "execute_result"
    }
   ],
   "source": [
    "# Greater than Sign\n",
    "i=2 \n",
    "i>5"
   ]
  },
  {
   "cell_type": "code",
   "execution_count": 81,
   "id": "9216b45a",
   "metadata": {},
   "outputs": [
    {
     "data": {
      "text/plain": [
       "True"
      ]
     },
     "execution_count": 81,
     "metadata": {},
     "output_type": "execute_result"
    }
   ],
   "source": [
    "# Inequality Sign\n",
    "i=2\n",
    "i !=6"
   ]
  },
  {
   "cell_type": "code",
   "execution_count": 51,
   "id": "0239e517",
   "metadata": {},
   "outputs": [
    {
     "data": {
      "text/plain": [
       "False"
      ]
     },
     "execution_count": 51,
     "metadata": {},
     "output_type": "execute_result"
    }
   ],
   "source": [
    "# Inequality Sign\n",
    "i=6 \n",
    "i != 6"
   ]
  },
  {
   "cell_type": "code",
   "execution_count": 86,
   "id": "7d7987bb",
   "metadata": {},
   "outputs": [
    {
     "data": {
      "text/plain": [
       "False"
      ]
     },
     "execution_count": 86,
     "metadata": {},
     "output_type": "execute_result"
    }
   ],
   "source": [
    "#Use Equality sign to compare the strings\n",
    "\"ACDC\"==\"Michael Jackson\""
   ]
  },
  {
   "cell_type": "code",
   "execution_count": 87,
   "id": "04a2aac8",
   "metadata": {},
   "outputs": [
    {
     "data": {
      "text/plain": [
       "True"
      ]
     },
     "execution_count": 87,
     "metadata": {},
     "output_type": "execute_result"
    }
   ],
   "source": [
    "#Use Inequality sign to compare the strings\n",
    "\"ACDC\"!=\"Michael Jackson\""
   ]
  },
  {
   "cell_type": "code",
   "execution_count": 88,
   "id": "b9e5aed4",
   "metadata": {},
   "outputs": [
    {
     "data": {
      "text/plain": [
       "True"
      ]
     },
     "execution_count": 88,
     "metadata": {},
     "output_type": "execute_result"
    }
   ],
   "source": [
    "# Compare characters\n",
    "'B' > 'A'"
   ]
  },
  {
   "cell_type": "code",
   "execution_count": 89,
   "id": "d427df51",
   "metadata": {},
   "outputs": [
    {
     "data": {
      "text/plain": [
       "True"
      ]
     },
     "execution_count": 89,
     "metadata": {},
     "output_type": "execute_result"
    }
   ],
   "source": [
    "# Compare characters\n",
    "'BA' > 'AB'"
   ]
  },
  {
   "cell_type": "code",
   "execution_count": 57,
   "id": "6f1c22cb",
   "metadata": {},
   "outputs": [
    {
     "data": {
      "text/plain": [
       "range(0, 3)"
      ]
     },
     "execution_count": 57,
     "metadata": {},
     "output_type": "execute_result"
    }
   ],
   "source": [
    "# Use the range\n",
    "range(3)"
   ]
  },
  {
   "cell_type": "code",
   "execution_count": 58,
   "id": "9a4ff5f0",
   "metadata": {},
   "outputs": [
    {
     "name": "stdout",
     "output_type": "stream",
     "text": [
      "1982\n",
      "1980\n",
      "1973\n"
     ]
    }
   ],
   "source": [
    "# For loop example\n",
    "dates = [1982,1980,1973]\n",
    "N = len(dates)\n",
    "for i in range(N):\n",
    "            print(dates[i])"
   ]
  },
  {
   "cell_type": "code",
   "execution_count": 60,
   "id": "9fdd1071",
   "metadata": {},
   "outputs": [
    {
     "name": "stdout",
     "output_type": "stream",
     "text": [
      "0\n",
      "1\n",
      "2\n",
      "3\n",
      "4\n",
      "5\n",
      "6\n",
      "7\n"
     ]
    }
   ],
   "source": [
    "# Example of for loop \n",
    "for i in range(0,8):\n",
    "    print(i)"
   ]
  },
  {
   "cell_type": "code",
   "execution_count": 61,
   "id": "55d7a054",
   "metadata": {},
   "outputs": [
    {
     "name": "stdout",
     "output_type": "stream",
     "text": [
      "1982\n",
      "1980\n",
      "1973\n"
     ]
    }
   ],
   "source": [
    "# Exmaple of for loop, loop through list\n",
    "for year in dates:\n",
    "    print(year)"
   ]
  },
  {
   "cell_type": "code",
   "execution_count": 63,
   "id": "14fbee27",
   "metadata": {},
   "outputs": [
    {
     "name": "stdout",
     "output_type": "stream",
     "text": [
      "Before square  0 is red\n",
      "After square  0 is white\n",
      "Before square  1 is yellow\n",
      "After square  1 is white\n",
      "Before square  2 is green\n",
      "After square  2 is white\n",
      "Before square  3 is purple\n",
      "After square  3 is white\n",
      "Before square  4 is blue\n",
      "After square  4 is white\n"
     ]
    }
   ],
   "source": [
    "# Use for loop to change the elements in list\n",
    "squares = ['red', 'yellow', 'green', 'purple', 'blue']\n",
    "for i in range(0, 5):\n",
    "    print(\"Before square \", i, 'is', squares[i]) \n",
    "    squares[i] = 'white'\n",
    "    print(\"After square \", i, 'is', squares[i])"
   ]
  },
  {
   "cell_type": "code",
   "execution_count": 64,
   "id": "47592f95",
   "metadata": {},
   "outputs": [
    {
     "name": "stdout",
     "output_type": "stream",
     "text": [
      "0 red\n",
      "1 yellow\n",
      "2 green\n",
      "3 purple\n",
      "4 blue\n"
     ]
    }
   ],
   "source": [
    "# Loop through the list and iterate on both index and element value\n",
    "squares=['red', 'yellow', 'green', 'purple', 'blue']\n",
    "\n",
    "\n",
    "for i, square in enumerate(squares): \n",
    "    print(i, square)"
   ]
  },
  {
   "cell_type": "code",
   "execution_count": 71,
   "id": "da24373f",
   "metadata": {},
   "outputs": [
    {
     "name": "stdout",
     "output_type": "stream",
     "text": [
      "24\n"
     ]
    }
   ],
   "source": [
    "# Define a function for multiple two numbers\n",
    "def Mult(a, b):\n",
    "    c = a * b \n",
    "    return(c)\n",
    "    print('This is not printed') \n",
    "result = Mult(12,2)\n",
    "print(result)"
   ]
  },
  {
   "cell_type": "code",
   "execution_count": 72,
   "id": "f495723a",
   "metadata": {},
   "outputs": [
    {
     "data": {
      "text/plain": [
       "6"
      ]
     },
     "execution_count": 72,
     "metadata": {},
     "output_type": "execute_result"
    }
   ],
   "source": [
    "# Use mult() multiply two integers \n",
    "Mult(2, 3)"
   ]
  },
  {
   "cell_type": "code",
   "execution_count": 74,
   "id": "2341234b",
   "metadata": {},
   "outputs": [
    {
     "data": {
      "text/plain": [
       "31.400000000000002"
      ]
     },
     "execution_count": 74,
     "metadata": {},
     "output_type": "execute_result"
    }
   ],
   "source": [
    "# Use mult() multiply two floats \n",
    "Mult(10.0, 3.14)"
   ]
  },
  {
   "cell_type": "code",
   "execution_count": 75,
   "id": "dd3247bb",
   "metadata": {},
   "outputs": [
    {
     "data": {
      "text/plain": [
       "'Michael Jackson Michael Jackson '"
      ]
     },
     "execution_count": 75,
     "metadata": {},
     "output_type": "execute_result"
    }
   ],
   "source": [
    "# Use mult() multiply two different type values together \n",
    "Mult(2, \"Michael Jackson \")"
   ]
  },
  {
   "cell_type": "code",
   "execution_count": 95,
   "id": "25908341",
   "metadata": {},
   "outputs": [],
   "source": [
    "import matplotlib.pyplot as plt\n",
    "\n",
    "class Circle(object):\n",
    "\n",
    "    def init(self, radius = 3, color = 'blue'):\n",
    "        self.radius = radius\n",
    "        self.color = color\n",
    "        \n",
    "        \n",
    "       \n",
    "    def add_radius(self, r):\n",
    "        self.radius = self.radius + r\n",
    "        return(self.radius)\n",
    "\n",
    "    def drawCircle(self):\n",
    "        plt.gca().add_patch(plt.Circle((0,0), radius = self.radius, fc = self.color))\n",
    "        plt.axis('scaled')\n",
    "        plt.show()"
   ]
  },
  {
   "cell_type": "code",
   "execution_count": 96,
   "id": "14a8d548",
   "metadata": {},
   "outputs": [
    {
     "data": {
      "text/plain": [
       "('Examplel.txt', <http.client.HTTPMessage at 0x1e429dba940>)"
      ]
     },
     "execution_count": 96,
     "metadata": {},
     "output_type": "execute_result"
    }
   ],
   "source": [
    "import urllib.request\n",
    "url='https://lms.kku.edu.sa/'\n",
    "filename = 'Examplel.txt'\n",
    "urllib.request.urlretrieve(url,filename)"
   ]
  },
  {
   "cell_type": "code",
   "execution_count": 97,
   "id": "d5a84e78",
   "metadata": {},
   "outputs": [],
   "source": [
    "exmp2 ='http.client.HTTPMessage at 0x2a4ab11a640' \n",
    "with open(exmp2, 'a') as writefile:\n",
    "    writefile.write(\"This is line A\")"
   ]
  },
  {
   "cell_type": "code",
   "execution_count": null,
   "id": "bb972359",
   "metadata": {},
   "outputs": [],
   "source": []
  }
 ],
 "metadata": {
  "kernelspec": {
   "display_name": "Python 3 (ipykernel)",
   "language": "python",
   "name": "python3"
  },
  "language_info": {
   "codemirror_mode": {
    "name": "ipython",
    "version": 3
   },
   "file_extension": ".py",
   "mimetype": "text/x-python",
   "name": "python",
   "nbconvert_exporter": "python",
   "pygments_lexer": "ipython3",
   "version": "3.9.12"
  }
 },
 "nbformat": 4,
 "nbformat_minor": 5
}
